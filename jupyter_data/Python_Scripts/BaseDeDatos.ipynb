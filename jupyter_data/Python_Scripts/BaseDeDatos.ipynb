{
 "cells": [
  {
   "cell_type": "code",
   "execution_count": null,
   "metadata": {
    "id": "dPLNs4tWpSm8"
   },
   "outputs": [],
   "source": [
    "pip install mysql.connector"
   ]
  },
  {
   "cell_type": "code",
   "execution_count": null,
   "metadata": {
    "id": "N-8uS6z8pbLH"
   },
   "outputs": [],
   "source": [
    "import mysql.connector\n",
    "\n",
    "db = mysql.connector.connect(\n",
    "  host=\"mysql\",\n",
    "  user=\"root\",\n",
    "  password=\"root\"\n",
    ")\n",
    "cursor = db.cursor()\n",
    "cursor.execute(\"CREATE DATABASE Proyecto_G01\")"
   ]
  },
  {
   "cell_type": "code",
   "execution_count": null,
   "metadata": {
    "id": "y6VzA8MypcP4"
   },
   "outputs": [],
   "source": [
    "db = mysql.connector.connect(\n",
    "  host=\"mysql\",\n",
    "  user=\"root\",\n",
    "  password=\"root\",\n",
    "  database=\"Proyecto_G01\"\n",
    ")\n",
    "cursor = db.cursor()\n",
    "cursor.execute(\"CREATE TABLE ConsumoAlcohol (Pais VARCHAR(255), Cerveza INT(5), Licor INT(5), Vino INT(5), Total_Litros_alcohol_puro FLOAT(5))\")"
   ]
  },
  {
   "cell_type": "code",
   "execution_count": null,
   "metadata": {
    "id": "zpF-TgbvpiTJ"
   },
   "outputs": [],
   "source": [
    "import pandas as pd\n",
    "import numpy as np\n",
    "df = pd.read_excel(\"ConsumoAlcohol.xlsx\")\n",
    "x = df.iloc[:,[0,1,2,3,4]]"
   ]
  },
  {
   "cell_type": "code",
   "execution_count": null,
   "metadata": {
    "id": "Nai3l2z4pjcb"
   },
   "outputs": [],
   "source": [
    "cursor = db.cursor()\n",
    "\n",
    "datos=x.to_numpy()\n",
    "datos=np.delete(datos,0,0)\n",
    "\n",
    "for i in range(len(datos)):\n",
    "    sql = \"INSERT INTO ConsumoAlcohol (Pais, Cerveza, Licor, Vino, Total_Litros_alcohol_puro) VALUES (%s, %s, %s, %s, %s)\"\n",
    "    val=(tuple(datos[i]))\n",
    "    cursor.execute(sql, val)\n",
    "    db.commit()\n",
    "print(len(datos), \"rows inserted.\")"
   ]
  },
  {
   "cell_type": "code",
   "execution_count": null,
   "metadata": {
    "id": "Smbz6dXHprf8"
   },
   "outputs": [],
   "source": [
    "cursor = db.cursor()\n",
    "\n",
    "sql = \"DROP TABLE ConsumoAlcohol\"\n",
    "\n",
    "cursor.execute(sql)"
   ]
  }
 ],
 "metadata": {
  "colab": {
   "name": "ProyectoPC2.ipynb",
   "provenance": []
  },
  "kernelspec": {
   "display_name": "Python 3",
   "language": "python",
   "name": "python3"
  },
  "language_info": {
   "codemirror_mode": {
    "name": "ipython",
    "version": 3
   },
   "file_extension": ".py",
   "mimetype": "text/x-python",
   "name": "python",
   "nbconvert_exporter": "python",
   "pygments_lexer": "ipython3",
   "version": "3.8.6"
  }
 },
 "nbformat": 4,
 "nbformat_minor": 1
}
